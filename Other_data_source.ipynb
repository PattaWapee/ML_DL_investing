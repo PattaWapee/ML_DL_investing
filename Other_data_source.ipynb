{
 "cells": [
  {
   "cell_type": "markdown",
   "id": "804da7ba-e94e-4ab1-b384-bddde563ff30",
   "metadata": {},
   "source": [
    "# Other source\n",
    "* Quandl: create an account and get api key to download data\n",
    "*  Alpha Vantage\n",
    "## Crytocurrency\n",
    "* Coinqecko\n",
    "* Binance\n",
    "* Bitkub"
   ]
  },
  {
   "cell_type": "code",
   "execution_count": null,
   "id": "18d56135-73c7-4d54-ae49-eb426766cd03",
   "metadata": {},
   "outputs": [],
   "source": []
  }
 ],
 "metadata": {
  "kernelspec": {
   "display_name": "Python 3",
   "language": "python",
   "name": "python3"
  },
  "language_info": {
   "codemirror_mode": {
    "name": "ipython",
    "version": 3
   },
   "file_extension": ".py",
   "mimetype": "text/x-python",
   "name": "python",
   "nbconvert_exporter": "python",
   "pygments_lexer": "ipython3",
   "version": "3.8.5"
  }
 },
 "nbformat": 4,
 "nbformat_minor": 5
}
