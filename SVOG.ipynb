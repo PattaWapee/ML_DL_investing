{
 "cells": [
  {
   "cell_type": "markdown",
   "metadata": {},
   "source": [
    "# SGOV ETF"
   ]
  },
  {
   "cell_type": "code",
   "execution_count": 21,
   "metadata": {},
   "outputs": [],
   "source": [
    "from pandas_datareader import data as pdr\n",
    "import pandas as pd\n",
    "import yfinance as yf\n",
    "yf.pdr_override()\n",
    "import mplfinance as mpf\n",
    "import pandas_ta as ta\n",
    "import matplotlib.pyplot as plt"
   ]
  },
  {
   "cell_type": "markdown",
   "metadata": {},
   "source": [
    "Import data"
   ]
  },
  {
   "cell_type": "code",
   "execution_count": 8,
   "metadata": {},
   "outputs": [
    {
     "name": "stdout",
     "output_type": "stream",
     "text": [
      "[*********************100%***********************]  1 of 1 completed\n"
     ]
    }
   ],
   "source": [
    "SGOV = pdr.get_data_yahoo(\"SGOV\", start = '2020-06-01', end= '2023-09-01')"
   ]
  },
  {
   "cell_type": "code",
   "execution_count": 10,
   "metadata": {},
   "outputs": [
    {
     "name": "stdout",
     "output_type": "stream",
     "text": [
      "<class 'pandas.core.frame.DataFrame'>\n",
      "DatetimeIndex: 820 entries, 2020-06-01 to 2023-08-31\n",
      "Data columns (total 6 columns):\n",
      " #   Column     Non-Null Count  Dtype  \n",
      "---  ------     --------------  -----  \n",
      " 0   Open       820 non-null    float64\n",
      " 1   High       820 non-null    float64\n",
      " 2   Low        820 non-null    float64\n",
      " 3   Close      820 non-null    float64\n",
      " 4   Adj Close  820 non-null    float64\n",
      " 5   Volume     820 non-null    int64  \n",
      "dtypes: float64(5), int64(1)\n",
      "memory usage: 44.8 KB\n"
     ]
    }
   ],
   "source": [
    "SGOV.info()"
   ]
  },
  {
   "cell_type": "code",
   "execution_count": 11,
   "metadata": {},
   "outputs": [
    {
     "data": {
      "text/html": [
       "<div>\n",
       "<style scoped>\n",
       "    .dataframe tbody tr th:only-of-type {\n",
       "        vertical-align: middle;\n",
       "    }\n",
       "\n",
       "    .dataframe tbody tr th {\n",
       "        vertical-align: top;\n",
       "    }\n",
       "\n",
       "    .dataframe thead th {\n",
       "        text-align: right;\n",
       "    }\n",
       "</style>\n",
       "<table border=\"1\" class=\"dataframe\">\n",
       "  <thead>\n",
       "    <tr style=\"text-align: right;\">\n",
       "      <th></th>\n",
       "      <th>Open</th>\n",
       "      <th>High</th>\n",
       "      <th>Low</th>\n",
       "      <th>Close</th>\n",
       "      <th>Adj Close</th>\n",
       "      <th>Volume</th>\n",
       "    </tr>\n",
       "    <tr>\n",
       "      <th>Date</th>\n",
       "      <th></th>\n",
       "      <th></th>\n",
       "      <th></th>\n",
       "      <th></th>\n",
       "      <th></th>\n",
       "      <th></th>\n",
       "    </tr>\n",
       "  </thead>\n",
       "  <tbody>\n",
       "    <tr>\n",
       "      <th>2020-06-01</th>\n",
       "      <td>100.019997</td>\n",
       "      <td>100.019997</td>\n",
       "      <td>100.010002</td>\n",
       "      <td>100.010002</td>\n",
       "      <td>95.468689</td>\n",
       "      <td>1600</td>\n",
       "    </tr>\n",
       "    <tr>\n",
       "      <th>2020-06-02</th>\n",
       "      <td>100.019997</td>\n",
       "      <td>100.019997</td>\n",
       "      <td>100.013000</td>\n",
       "      <td>100.013000</td>\n",
       "      <td>95.471558</td>\n",
       "      <td>4000</td>\n",
       "    </tr>\n",
       "    <tr>\n",
       "      <th>2020-06-03</th>\n",
       "      <td>100.014999</td>\n",
       "      <td>100.014999</td>\n",
       "      <td>100.014999</td>\n",
       "      <td>100.014999</td>\n",
       "      <td>95.473457</td>\n",
       "      <td>100</td>\n",
       "    </tr>\n",
       "    <tr>\n",
       "      <th>2020-06-04</th>\n",
       "      <td>100.000000</td>\n",
       "      <td>100.021004</td>\n",
       "      <td>100.000000</td>\n",
       "      <td>100.014999</td>\n",
       "      <td>95.473457</td>\n",
       "      <td>2400</td>\n",
       "    </tr>\n",
       "    <tr>\n",
       "      <th>2020-06-05</th>\n",
       "      <td>100.019997</td>\n",
       "      <td>100.019997</td>\n",
       "      <td>100.010002</td>\n",
       "      <td>100.010002</td>\n",
       "      <td>95.468689</td>\n",
       "      <td>400</td>\n",
       "    </tr>\n",
       "  </tbody>\n",
       "</table>\n",
       "</div>"
      ],
      "text/plain": [
       "                  Open        High         Low       Close  Adj Close  Volume\n",
       "Date                                                                         \n",
       "2020-06-01  100.019997  100.019997  100.010002  100.010002  95.468689    1600\n",
       "2020-06-02  100.019997  100.019997  100.013000  100.013000  95.471558    4000\n",
       "2020-06-03  100.014999  100.014999  100.014999  100.014999  95.473457     100\n",
       "2020-06-04  100.000000  100.021004  100.000000  100.014999  95.473457    2400\n",
       "2020-06-05  100.019997  100.019997  100.010002  100.010002  95.468689     400"
      ]
     },
     "execution_count": 11,
     "metadata": {},
     "output_type": "execute_result"
    }
   ],
   "source": [
    "SGOV.head()"
   ]
  },
  {
   "cell_type": "code",
   "execution_count": 12,
   "metadata": {},
   "outputs": [],
   "source": [
    "data = SGOV.copy()"
   ]
  },
  {
   "cell_type": "code",
   "execution_count": 14,
   "metadata": {},
   "outputs": [
    {
     "data": {
      "text/html": [
       "<div>\n",
       "<style scoped>\n",
       "    .dataframe tbody tr th:only-of-type {\n",
       "        vertical-align: middle;\n",
       "    }\n",
       "\n",
       "    .dataframe tbody tr th {\n",
       "        vertical-align: top;\n",
       "    }\n",
       "\n",
       "    .dataframe thead th {\n",
       "        text-align: right;\n",
       "    }\n",
       "</style>\n",
       "<table border=\"1\" class=\"dataframe\">\n",
       "  <thead>\n",
       "    <tr style=\"text-align: right;\">\n",
       "      <th></th>\n",
       "      <th>Open</th>\n",
       "      <th>High</th>\n",
       "      <th>Low</th>\n",
       "      <th>Close</th>\n",
       "      <th>Adj Close</th>\n",
       "      <th>Volume</th>\n",
       "      <th>Return</th>\n",
       "    </tr>\n",
       "    <tr>\n",
       "      <th>Date</th>\n",
       "      <th></th>\n",
       "      <th></th>\n",
       "      <th></th>\n",
       "      <th></th>\n",
       "      <th></th>\n",
       "      <th></th>\n",
       "      <th></th>\n",
       "    </tr>\n",
       "  </thead>\n",
       "  <tbody>\n",
       "    <tr>\n",
       "      <th>2020-06-01</th>\n",
       "      <td>100.019997</td>\n",
       "      <td>100.019997</td>\n",
       "      <td>100.010002</td>\n",
       "      <td>100.010002</td>\n",
       "      <td>95.468689</td>\n",
       "      <td>1600</td>\n",
       "      <td>NaN</td>\n",
       "    </tr>\n",
       "    <tr>\n",
       "      <th>2020-06-02</th>\n",
       "      <td>100.019997</td>\n",
       "      <td>100.019997</td>\n",
       "      <td>100.013000</td>\n",
       "      <td>100.013000</td>\n",
       "      <td>95.471558</td>\n",
       "      <td>4000</td>\n",
       "      <td>0.003005</td>\n",
       "    </tr>\n",
       "    <tr>\n",
       "      <th>2020-06-03</th>\n",
       "      <td>100.014999</td>\n",
       "      <td>100.014999</td>\n",
       "      <td>100.014999</td>\n",
       "      <td>100.014999</td>\n",
       "      <td>95.473457</td>\n",
       "      <td>100</td>\n",
       "      <td>0.001990</td>\n",
       "    </tr>\n",
       "    <tr>\n",
       "      <th>2020-06-04</th>\n",
       "      <td>100.000000</td>\n",
       "      <td>100.021004</td>\n",
       "      <td>100.000000</td>\n",
       "      <td>100.014999</td>\n",
       "      <td>95.473457</td>\n",
       "      <td>2400</td>\n",
       "      <td>0.000000</td>\n",
       "    </tr>\n",
       "    <tr>\n",
       "      <th>2020-06-05</th>\n",
       "      <td>100.019997</td>\n",
       "      <td>100.019997</td>\n",
       "      <td>100.010002</td>\n",
       "      <td>100.010002</td>\n",
       "      <td>95.468689</td>\n",
       "      <td>400</td>\n",
       "      <td>-0.004994</td>\n",
       "    </tr>\n",
       "  </tbody>\n",
       "</table>\n",
       "</div>"
      ],
      "text/plain": [
       "                  Open        High         Low       Close  Adj Close  Volume  \\\n",
       "Date                                                                            \n",
       "2020-06-01  100.019997  100.019997  100.010002  100.010002  95.468689    1600   \n",
       "2020-06-02  100.019997  100.019997  100.013000  100.013000  95.471558    4000   \n",
       "2020-06-03  100.014999  100.014999  100.014999  100.014999  95.473457     100   \n",
       "2020-06-04  100.000000  100.021004  100.000000  100.014999  95.473457    2400   \n",
       "2020-06-05  100.019997  100.019997  100.010002  100.010002  95.468689     400   \n",
       "\n",
       "              Return  \n",
       "Date                  \n",
       "2020-06-01       NaN  \n",
       "2020-06-02  0.003005  \n",
       "2020-06-03  0.001990  \n",
       "2020-06-04  0.000000  \n",
       "2020-06-05 -0.004994  "
      ]
     },
     "execution_count": 14,
     "metadata": {},
     "output_type": "execute_result"
    }
   ],
   "source": [
    "data[\"Return\"] = data[\"Adj Close\"].pct_change() * 100\n",
    "data.head()"
   ]
  },
  {
   "cell_type": "code",
   "execution_count": 22,
   "metadata": {},
   "outputs": [
    {
     "data": {
      "text/plain": [
       "Text(0.5, 1.0, 'Monthly Return')"
      ]
     },
     "execution_count": 22,
     "metadata": {},
     "output_type": "execute_result"
    },
    {
     "data": {
      "image/png": "[encoded data removed]",
      "text/plain": [
       "<Figure size 432x288 with 1 Axes>"
      ]
     },
     "metadata": {
      "needs_background": "light"
     },
     "output_type": "display_data"
    }
   ],
   "source": [
    "data_monthly_return = data['Adj Close'].resample('M').ffill().pct_change().plot()\n",
    "plt.title('Monthly Return')"
   ]
  },
  {
   "cell_type": "code",
   "execution_count": 27,
   "metadata": {},
   "outputs": [
    {
     "data": {
      "text/plain": [
       "Text(0.5, 1.0, 'Weekly Return')"
      ]
     },
     "execution_count": 27,
     "metadata": {},
     "output_type": "execute_result"
    },
    {
     "data": {
      "image/png": "[encoded data removed]",
      "text/plain": [
       "<Figure size 432x288 with 1 Axes>"
      ]
     },
     "metadata": {
      "needs_background": "light"
     },
     "output_type": "display_data"
    }
   ],
   "source": [
    "data_weekly_return = data['Adj Close'].resample('W').ffill().pct_change().plot()\n",
    "plt.title('Weekly Return')"
   ]
  },
  {
   "cell_type": "code",
   "execution_count": null,
   "metadata": {},
   "outputs": [],
   "source": []
  }
 ],
 "metadata": {
  "kernelspec": {
   "display_name": "3.8.5",
   "language": "python",
   "name": "python3"
  },
  "language_info": {
   "codemirror_mode": {
    "name": "ipython",
    "version": 3
   },
   "file_extension": ".py",
   "mimetype": "text/x-python",
   "name": "python",
   "nbconvert_exporter": "python",
   "pygments_lexer": "ipython3",
   "version": "3.8.5"
  },
  "orig_nbformat": 4
 },
 "nbformat": 4,
 "nbformat_minor": 2
}
